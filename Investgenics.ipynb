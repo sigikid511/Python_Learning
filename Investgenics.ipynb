{
 "cells": [
  {
   "cell_type": "markdown",
   "id": "f4aa90f6-60d8-44a2-8632-73892e1dbe65",
   "metadata": {},
   "source": [
    "Which stocks were sold with the highest volume?\r\n",
    "Which stocks were sold with the lowest volume?"
   ]
  },
  {
   "cell_type": "code",
   "execution_count": 1,
   "id": "976e37cb-0c58-44e1-9379-932398bcaf0b",
   "metadata": {},
   "outputs": [],
   "source": [
    "# Import the libraries and data into pandas dataframes.\n",
    "import pandas as pd\n",
    "import numpy as np\n",
    "gold = pd.read_csv(r\"D:\\OneDrive - klein.bz\\B  KLEIN\\.SIGI DOX\\LSE Data Analysis\\Exercises\\Course_2\\Module_2\\Data\\LSE_DA201_Module_2_files\\Data\\gold_stocks_price.csv\")\n",
    "oil = pd.read_csv(r\"D:\\OneDrive - klein.bz\\B  KLEIN\\.SIGI DOX\\LSE Data Analysis\\Exercises\\Course_2\\Module_2\\Data\\LSE_DA201_Module_2_files\\Data\\oil_price.csv\")"
   ]
  },
  {
   "cell_type": "code",
   "execution_count": null,
   "id": "531f5a28-c30c-4419-8124-b2000124fc47",
   "metadata": {},
   "outputs": [],
   "source": [
    "# Check the shape, column headers, datatypes of the dataframes.\n",
    "print(gold.shape), print (oil.shape), print(list(gold.columns)), print(list(oil.columns)), print(gold.dtypes), print(oil.dtypes)"
   ]
  },
  {
   "cell_type": "code",
   "execution_count": 33,
   "id": "3b514a1e-ec0d-4929-9505-a6c564079447",
   "metadata": {},
   "outputs": [
    {
     "name": "stdout",
     "output_type": "stream",
     "text": [
      "Date             0\n",
      "Open             0\n",
      "High             0\n",
      "Low              0\n",
      "Close            0\n",
      "                ..\n",
      "USO_High         0\n",
      "USO_Low          0\n",
      "USO_Close        0\n",
      "USO_Adj Close    0\n",
      "USO_Volume       0\n",
      "Length: 81, dtype: int64\n",
      "Date     0\n",
      "Price    0\n",
      "Open     0\n",
      "High     0\n",
      "Low      0\n",
      "Vol.     0\n",
      "dtype: int64\n"
     ]
    },
    {
     "data": {
      "text/plain": [
       "(None, None)"
      ]
     },
     "execution_count": 33,
     "metadata": {},
     "output_type": "execute_result"
    }
   ],
   "source": [
    "# Check the dataframes for missing data.\n",
    "print(gold.isnull().sum()), print(oil.isnull().sum())"
   ]
  },
  {
   "cell_type": "code",
   "execution_count": 35,
   "id": "0c67c415-5929-47a0-b6d7-069ff4055cf3",
   "metadata": {},
   "outputs": [
    {
     "data": {
      "text/plain": [
       "(500, 4)"
      ]
     },
     "execution_count": 35,
     "metadata": {},
     "output_type": "execute_result"
    }
   ],
   "source": [
    "# Read subset of the gold dataframe using usecols and nrows\n",
    "gold_subset = pd.read_csv(r\"D:\\OneDrive - klein.bz\\B  KLEIN\\.SIGI DOX\\LSE Data Analysis\\Exercises\\Course_2\\Module_2\\Data\\LSE_DA201_Module_2_files\\Data\\gold_stocks_price.csv\",\n",
    "                         usecols=['Date','Open','High','Low'],nrows=500)\n",
    "\n",
    "gold_subset.shape"
   ]
  },
  {
   "cell_type": "code",
   "execution_count": 39,
   "id": "d05f482d-0251-4bda-808c-6b562ef444e1",
   "metadata": {},
   "outputs": [
    {
     "data": {
      "text/html": [
       "<div>\n",
       "<style scoped>\n",
       "    .dataframe tbody tr th:only-of-type {\n",
       "        vertical-align: middle;\n",
       "    }\n",
       "\n",
       "    .dataframe tbody tr th {\n",
       "        vertical-align: top;\n",
       "    }\n",
       "\n",
       "    .dataframe thead th {\n",
       "        text-align: right;\n",
       "    }\n",
       "</style>\n",
       "<table border=\"1\" class=\"dataframe\">\n",
       "  <thead>\n",
       "    <tr style=\"text-align: right;\">\n",
       "      <th></th>\n",
       "      <th>Date</th>\n",
       "      <th>Open</th>\n",
       "      <th>High</th>\n",
       "      <th>Low</th>\n",
       "    </tr>\n",
       "  </thead>\n",
       "  <tbody>\n",
       "    <tr>\n",
       "      <th>0</th>\n",
       "      <td>2011-12-15</td>\n",
       "      <td>154.740005</td>\n",
       "      <td>154.949997</td>\n",
       "      <td>151.710007</td>\n",
       "    </tr>\n",
       "    <tr>\n",
       "      <th>1</th>\n",
       "      <td>2011-12-16</td>\n",
       "      <td>154.309998</td>\n",
       "      <td>155.369995</td>\n",
       "      <td>153.899994</td>\n",
       "    </tr>\n",
       "    <tr>\n",
       "      <th>2</th>\n",
       "      <td>2011-12-19</td>\n",
       "      <td>155.479996</td>\n",
       "      <td>155.860001</td>\n",
       "      <td>154.360001</td>\n",
       "    </tr>\n",
       "    <tr>\n",
       "      <th>3</th>\n",
       "      <td>2011-12-20</td>\n",
       "      <td>156.820007</td>\n",
       "      <td>157.429993</td>\n",
       "      <td>156.580002</td>\n",
       "    </tr>\n",
       "    <tr>\n",
       "      <th>4</th>\n",
       "      <td>2011-12-21</td>\n",
       "      <td>156.979996</td>\n",
       "      <td>157.529999</td>\n",
       "      <td>156.130005</td>\n",
       "    </tr>\n",
       "    <tr>\n",
       "      <th>...</th>\n",
       "      <td>...</td>\n",
       "      <td>...</td>\n",
       "      <td>...</td>\n",
       "      <td>...</td>\n",
       "    </tr>\n",
       "    <tr>\n",
       "      <th>495</th>\n",
       "      <td>2014-01-27</td>\n",
       "      <td>121.650002</td>\n",
       "      <td>122.059998</td>\n",
       "      <td>120.720001</td>\n",
       "    </tr>\n",
       "    <tr>\n",
       "      <th>496</th>\n",
       "      <td>2014-01-28</td>\n",
       "      <td>121.320000</td>\n",
       "      <td>121.400002</td>\n",
       "      <td>120.410004</td>\n",
       "    </tr>\n",
       "    <tr>\n",
       "      <th>497</th>\n",
       "      <td>2014-01-29</td>\n",
       "      <td>122.190002</td>\n",
       "      <td>122.510002</td>\n",
       "      <td>121.129997</td>\n",
       "    </tr>\n",
       "    <tr>\n",
       "      <th>498</th>\n",
       "      <td>2014-01-30</td>\n",
       "      <td>119.669998</td>\n",
       "      <td>120.220001</td>\n",
       "      <td>119.599998</td>\n",
       "    </tr>\n",
       "    <tr>\n",
       "      <th>499</th>\n",
       "      <td>2014-02-03</td>\n",
       "      <td>120.470001</td>\n",
       "      <td>122.110001</td>\n",
       "      <td>120.320000</td>\n",
       "    </tr>\n",
       "  </tbody>\n",
       "</table>\n",
       "<p>500 rows × 4 columns</p>\n",
       "</div>"
      ],
      "text/plain": [
       "           Date        Open        High         Low\n",
       "0    2011-12-15  154.740005  154.949997  151.710007\n",
       "1    2011-12-16  154.309998  155.369995  153.899994\n",
       "2    2011-12-19  155.479996  155.860001  154.360001\n",
       "3    2011-12-20  156.820007  157.429993  156.580002\n",
       "4    2011-12-21  156.979996  157.529999  156.130005\n",
       "..          ...         ...         ...         ...\n",
       "495  2014-01-27  121.650002  122.059998  120.720001\n",
       "496  2014-01-28  121.320000  121.400002  120.410004\n",
       "497  2014-01-29  122.190002  122.510002  121.129997\n",
       "498  2014-01-30  119.669998  120.220001  119.599998\n",
       "499  2014-02-03  120.470001  122.110001  120.320000\n",
       "\n",
       "[500 rows x 4 columns]"
      ]
     },
     "execution_count": 39,
     "metadata": {},
     "output_type": "execute_result"
    }
   ],
   "source": [
    "# You can also select columns and limit rows on the existing dataframe.\n",
    "gold_subset1 = gold[['Date','Open','High','Low']].head(500)\n",
    "\n",
    "gold_subset1"
   ]
  },
  {
   "cell_type": "code",
   "execution_count": 41,
   "id": "a4095455-db83-4a57-af69-a96b0e99066b",
   "metadata": {},
   "outputs": [
    {
     "data": {
      "text/plain": [
       "Date     object\n",
       "Open    float64\n",
       "High    float64\n",
       "Low     float64\n",
       "dtype: object"
      ]
     },
     "execution_count": 41,
     "metadata": {},
     "output_type": "execute_result"
    }
   ],
   "source": [
    "# Check the datatypes for the subset\n",
    "gold_subset.dtypes"
   ]
  },
  {
   "cell_type": "code",
   "execution_count": 47,
   "id": "33a16b4a-1145-4060-8c01-69d0d36f6e16",
   "metadata": {},
   "outputs": [
    {
     "data": {
      "text/plain": [
       "Date    0\n",
       "Open    0\n",
       "High    0\n",
       "Low     0\n",
       "dtype: int64"
      ]
     },
     "execution_count": 47,
     "metadata": {},
     "output_type": "execute_result"
    }
   ],
   "source": [
    "# Determine missing values for the subset\n",
    "gold_subset.isna().sum()"
   ]
  },
  {
   "cell_type": "code",
   "execution_count": 49,
   "id": "fdcbe38f-4f0c-428d-9eed-0da2b07beb3a",
   "metadata": {},
   "outputs": [
    {
     "data": {
      "text/html": [
       "<div>\n",
       "<style scoped>\n",
       "    .dataframe tbody tr th:only-of-type {\n",
       "        vertical-align: middle;\n",
       "    }\n",
       "\n",
       "    .dataframe tbody tr th {\n",
       "        vertical-align: top;\n",
       "    }\n",
       "\n",
       "    .dataframe thead th {\n",
       "        text-align: right;\n",
       "    }\n",
       "</style>\n",
       "<table border=\"1\" class=\"dataframe\">\n",
       "  <thead>\n",
       "    <tr style=\"text-align: right;\">\n",
       "      <th></th>\n",
       "      <th>Open</th>\n",
       "      <th>High</th>\n",
       "      <th>Low</th>\n",
       "    </tr>\n",
       "  </thead>\n",
       "  <tbody>\n",
       "    <tr>\n",
       "      <th>count</th>\n",
       "      <td>500.000000</td>\n",
       "      <td>500.000000</td>\n",
       "      <td>500.000000</td>\n",
       "    </tr>\n",
       "    <tr>\n",
       "      <th>mean</th>\n",
       "      <td>149.033480</td>\n",
       "      <td>149.774340</td>\n",
       "      <td>148.266740</td>\n",
       "    </tr>\n",
       "    <tr>\n",
       "      <th>std</th>\n",
       "      <td>16.923214</td>\n",
       "      <td>16.919180</td>\n",
       "      <td>16.871447</td>\n",
       "    </tr>\n",
       "    <tr>\n",
       "      <th>min</th>\n",
       "      <td>117.580002</td>\n",
       "      <td>118.180000</td>\n",
       "      <td>116.739998</td>\n",
       "    </tr>\n",
       "    <tr>\n",
       "      <th>25%</th>\n",
       "      <td>132.134998</td>\n",
       "      <td>133.144997</td>\n",
       "      <td>131.192501</td>\n",
       "    </tr>\n",
       "    <tr>\n",
       "      <th>50%</th>\n",
       "      <td>155.070000</td>\n",
       "      <td>155.610001</td>\n",
       "      <td>154.360001</td>\n",
       "    </tr>\n",
       "    <tr>\n",
       "      <th>75%</th>\n",
       "      <td>161.862500</td>\n",
       "      <td>162.577500</td>\n",
       "      <td>161.149994</td>\n",
       "    </tr>\n",
       "    <tr>\n",
       "      <th>max</th>\n",
       "      <td>173.199997</td>\n",
       "      <td>174.070007</td>\n",
       "      <td>172.919998</td>\n",
       "    </tr>\n",
       "  </tbody>\n",
       "</table>\n",
       "</div>"
      ],
      "text/plain": [
       "             Open        High         Low\n",
       "count  500.000000  500.000000  500.000000\n",
       "mean   149.033480  149.774340  148.266740\n",
       "std     16.923214   16.919180   16.871447\n",
       "min    117.580002  118.180000  116.739998\n",
       "25%    132.134998  133.144997  131.192501\n",
       "50%    155.070000  155.610001  154.360001\n",
       "75%    161.862500  162.577500  161.149994\n",
       "max    173.199997  174.070007  172.919998"
      ]
     },
     "execution_count": 49,
     "metadata": {},
     "output_type": "execute_result"
    }
   ],
   "source": [
    "# Statistical analysis\n",
    "gold_subset.describe()"
   ]
  },
  {
   "cell_type": "code",
   "execution_count": 57,
   "id": "05efd83a-1bc1-4309-8943-48af138864ac",
   "metadata": {},
   "outputs": [
    {
     "data": {
      "text/plain": [
       "149.03348024399997"
      ]
     },
     "execution_count": 57,
     "metadata": {},
     "output_type": "execute_result"
    }
   ],
   "source": [
    "# The mean can also be found using mean\n",
    "\n",
    "gold_subset['Open'].mean()"
   ]
  },
  {
   "cell_type": "code",
   "execution_count": 53,
   "id": "93e755af-cf58-4580-b3d0-49a35b709d4d",
   "metadata": {},
   "outputs": [
    {
     "data": {
      "text/html": [
       "<div>\n",
       "<style scoped>\n",
       "    .dataframe tbody tr th:only-of-type {\n",
       "        vertical-align: middle;\n",
       "    }\n",
       "\n",
       "    .dataframe tbody tr th {\n",
       "        vertical-align: top;\n",
       "    }\n",
       "\n",
       "    .dataframe thead th {\n",
       "        text-align: right;\n",
       "    }\n",
       "</style>\n",
       "<table border=\"1\" class=\"dataframe\">\n",
       "  <thead>\n",
       "    <tr style=\"text-align: right;\">\n",
       "      <th></th>\n",
       "      <th>Price</th>\n",
       "      <th>Open</th>\n",
       "      <th>High</th>\n",
       "      <th>Low</th>\n",
       "    </tr>\n",
       "  </thead>\n",
       "  <tbody>\n",
       "    <tr>\n",
       "      <th>count</th>\n",
       "      <td>1844.000000</td>\n",
       "      <td>1844.000000</td>\n",
       "      <td>1844.000000</td>\n",
       "      <td>1844.000000</td>\n",
       "    </tr>\n",
       "    <tr>\n",
       "      <th>mean</th>\n",
       "      <td>70.443980</td>\n",
       "      <td>70.481242</td>\n",
       "      <td>71.319707</td>\n",
       "      <td>69.552413</td>\n",
       "    </tr>\n",
       "    <tr>\n",
       "      <th>std</th>\n",
       "      <td>23.501399</td>\n",
       "      <td>23.485367</td>\n",
       "      <td>23.505822</td>\n",
       "      <td>23.424742</td>\n",
       "    </tr>\n",
       "    <tr>\n",
       "      <th>min</th>\n",
       "      <td>26.210000</td>\n",
       "      <td>27.300000</td>\n",
       "      <td>27.480000</td>\n",
       "      <td>26.050000</td>\n",
       "    </tr>\n",
       "    <tr>\n",
       "      <th>25%</th>\n",
       "      <td>49.062500</td>\n",
       "      <td>49.077500</td>\n",
       "      <td>49.710000</td>\n",
       "      <td>48.240000</td>\n",
       "    </tr>\n",
       "    <tr>\n",
       "      <th>50%</th>\n",
       "      <td>65.380000</td>\n",
       "      <td>65.295000</td>\n",
       "      <td>66.020000</td>\n",
       "      <td>64.315000</td>\n",
       "    </tr>\n",
       "    <tr>\n",
       "      <th>75%</th>\n",
       "      <td>94.602500</td>\n",
       "      <td>94.530000</td>\n",
       "      <td>95.592500</td>\n",
       "      <td>93.652500</td>\n",
       "    </tr>\n",
       "    <tr>\n",
       "      <th>max</th>\n",
       "      <td>110.530000</td>\n",
       "      <td>110.280000</td>\n",
       "      <td>112.240000</td>\n",
       "      <td>109.110000</td>\n",
       "    </tr>\n",
       "  </tbody>\n",
       "</table>\n",
       "</div>"
      ],
      "text/plain": [
       "             Price         Open         High          Low\n",
       "count  1844.000000  1844.000000  1844.000000  1844.000000\n",
       "mean     70.443980    70.481242    71.319707    69.552413\n",
       "std      23.501399    23.485367    23.505822    23.424742\n",
       "min      26.210000    27.300000    27.480000    26.050000\n",
       "25%      49.062500    49.077500    49.710000    48.240000\n",
       "50%      65.380000    65.295000    66.020000    64.315000\n",
       "75%      94.602500    94.530000    95.592500    93.652500\n",
       "max     110.530000   110.280000   112.240000   109.110000"
      ]
     },
     "execution_count": 53,
     "metadata": {},
     "output_type": "execute_result"
    }
   ],
   "source": [
    "# Statistical analysis\n",
    "oil.describe()"
   ]
  },
  {
   "cell_type": "code",
   "execution_count": null,
   "id": "ac4cdcbe-7cce-4a63-9242-680e5004a026",
   "metadata": {},
   "outputs": [],
   "source": []
  }
 ],
 "metadata": {
  "kernelspec": {
   "display_name": "Python 3 (ipykernel)",
   "language": "python",
   "name": "python3"
  },
  "language_info": {
   "codemirror_mode": {
    "name": "ipython",
    "version": 3
   },
   "file_extension": ".py",
   "mimetype": "text/x-python",
   "name": "python",
   "nbconvert_exporter": "python",
   "pygments_lexer": "ipython3",
   "version": "3.12.4"
  }
 },
 "nbformat": 4,
 "nbformat_minor": 5
}
